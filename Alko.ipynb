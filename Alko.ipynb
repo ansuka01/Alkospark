{
 "cells": [
  {
   "cell_type": "code",
   "execution_count": 2,
   "metadata": {},
   "outputs": [],
   "source": [
    "#Looking at the data that alkos product catalog provides. Maybe jokingly build a mlib-model that \"predicts\" the price of the product according to year/alcohol% etc."
   ]
  },
  {
   "cell_type": "code",
   "execution_count": 47,
   "metadata": {},
   "outputs": [],
   "source": [
    "from pyspark.sql import SparkSession\n",
    "from pyspark.ml import *\n",
    "from pyspark.ml.feature import *\n",
    "from pyspark.ml.classification import *\n",
    "from pyspark.sql.types import *\n",
    "\n",
    "spark = SparkSession.builder\\\n",
    "    .master(\"local[*]\")\\\n",
    "    .appName(\"alko\")\\\n",
    "    .config(\"spark.dynamicAllocation.enabled\", \"true\")\\\n",
    "    .config(\"spark.shuffle.service.enabled\", \"true\")\\\n",
    "    .getOrCreate()\n",
    "\n",
    "sampleDataPath1 = \"alkon-hinnasto-tekstitiedostona(3).csv\"\n",
    "alko = 'alko'"
   ]
  },
  {
   "cell_type": "code",
   "execution_count": 50,
   "metadata": {},
   "outputs": [],
   "source": [
    "#Creating a function that loads the csv-file and assigns a custom schema to it\n",
    "def Loaded(path):\n",
    "    originalCols = StructType([\\\n",
    "    StructField(\"Numero\", StringType(),True),\\\n",
    "    StructField(\"Nimi\", StringType(),True),\\\n",
    "    StructField(\"Valmistaja\",StringType(),False),\\\n",
    "    StructField(\"Pullokoko\",StringType(),False),\\\n",
    "    StructField(\"Hinta\",StringType(),False),\\\n",
    "    StructField(\"Litrahinta\",StringType(),False),\\\n",
    "    StructField(\"Uutuus\",StringType(),True),\\\n",
    "    StructField(\"Hinnastojärjestyskoodi\",StringType(),False),\\\n",
    "    StructField(\"Tyyppi\",StringType(),False),\\\n",
    "    StructField(\"Alatyyppi\",StringType(),False),\\\n",
    "    StructField(\"Erityisryhmä\",StringType(),False),\\\n",
    "    StructField(\"Oluttyyppi\",StringType(),False),\\\n",
    "    StructField(\"Valmistusmaa\",StringType(),False),\\\n",
    "    StructField(\"Alue\",StringType(),False),\\\n",
    "    StructField(\"Vuosikerta\",StringType(),False),\\\n",
    "    StructField(\"Etikettimerkintöjä\",StringType(),False),\\\n",
    "    StructField(\"Huomautus\",StringType(),False),\\\n",
    "    StructField(\"Rypäleet\",StringType(),False),\\\n",
    "    StructField(\"Luonnehdinta\",StringType(),False),\\\n",
    "    StructField(\"Pakkaustyyppi\",StringType(),False),\\\n",
    "    StructField(\"Suljentatyyppi\",StringType(),False),\\\n",
    "    StructField(\"Alkoholi\",StringType(),False),\\\n",
    "    StructField(\"Hapot\",StringType(),False),\\\n",
    "    StructField(\"Sokeri\",StringType(),False),\\\n",
    "    StructField(\"Kantavierrep\",StringType(),False),\\\n",
    "    StructField(\"Väri\",StringType(),False),\\\n",
    "    StructField(\"Katkerot\",StringType(),False),\\\n",
    "    StructField(\"Energia\",StringType(),False),\\\n",
    "    StructField(\"Valikoima\",StringType(),False),\\\n",
    "    StructField(\"EAN\",StringType(),False)])\n",
    "    data = spark.read.option(\"delimeter\", \",\")\\\n",
    "    .option(\"Header\", \"True\").schema(originalCols).csv(path)\n",
    "    data.createOrReplaceTempView(\"alko\")\n",
    "    return data\n"
   ]
  },
  {
   "cell_type": "code",
   "execution_count": 51,
   "metadata": {},
   "outputs": [
    {
     "name": "stdout",
     "output_type": "stream",
     "text": [
      "23/01/03 18:05:41 WARN CSVHeaderChecker: Number of column in CSV header is not equal to number of fields in the schema:\n",
      " Header length: 1, schema size: 30\n",
      "CSV file: file:///Users/attesukari/Documents/Alkospark/alkon-hinnasto-tekstitiedostona(3).csv\n",
      "+--------------------+--------------------+--------------------+--------------------+--------------------+--------------------+--------------------+----------------------+--------------------+--------------+-----------------+--------------------+------------+----+----------+------------------+---------+--------+------------+-------------+--------------+--------+-----+------+------------+----+--------+-------+---------+----+\n",
      "|              Numero|                Nimi|          Valmistaja|           Pullokoko|               Hinta|          Litrahinta|              Uutuus|Hinnastojärjestyskoodi|              Tyyppi|     Alatyyppi|     Erityisryhmä|          Oluttyyppi|Valmistusmaa|Alue|Vuosikerta|Etikettimerkintöjä|Huomautus|Rypäleet|Luonnehdinta|Pakkaustyyppi|Suljentatyyppi|Alkoholi|Hapot|Sokeri|Kantavierrep|Väri|Katkerot|Energia|Valikoima| EAN|\n",
      "+--------------------+--------------------+--------------------+--------------------+--------------------+--------------------+--------------------+----------------------+--------------------+--------------+-----------------+--------------------+------------+----+----------+------------------+---------+--------+------------+-------------+--------------+--------+-----+------+------------+----+--------+-------+---------+----+\n",
      "|915083;Ecologica ...|75 l;Oct.48;13.84...|              Malbec|        ;Täyteläinen|    keskitanniininen|        kirsikkainen|         herukkainen|   karhunvatukkahil...|           79027E+12|          null|             null|                null|        null|null|      null|              null|     null|    null|        null|         null|          null|    null| null|  null|        null|null|    null|   null|     null|null|\n",
      "|906458;Fair & Squ...|   ;Keskitäyteläinen|    keskitanniininen|   karhunvatukkainen|    mustaherukkainen|         karpaloinen| kevyen yrttinen;...|             35008E+12|                null|          null|             null|                null|        null|null|      null|              null|     null|    null|        null|         null|          null|    null| null|  null|        null|null|    null|   null|     null|null|\n",
      "|951667;Raza Selec...|75 l;Dec.98;17.17...|               Syrah|        ;Täyteläinen|    keskitanniininen|         herukkainen|     boysenmarjainen|            taatelinen| neilikkainen;pul...|     79027E+12|             null|                null|        null|null|      null|              null|     null|    null|        null|         null|          null|    null| null|  null|        null|null|    null|   null|     null|null|\n",
      "|489367;Achaval Fe...|75 l;49.94;66.59;...|    keskitanniininen| tumman kirsikkainen|     boysenmarjainen|  kypsän karpaloinen|   kevyen kaakaoinen|              tamminen| lämmin;pullo;luo...|     79809E+12|             null|                null|        null|null|      null|              null|     null|    null|        null|         null|          null|    null| null|  null|        null|null|    null|   null|     null|null|\n",
      "|440567;Alamos Mal...|75 l;Nov.49;15.19...|        ;Täyteläinen|    keskitanniininen|           luumuinen|        mustikkainen|   karhunvatukkainen|   kevyen kukkainen...|           79445E+12|          null|             null|                null|        null|null|      null|              null|     null|    null|        null|         null|          null|    null| null|  null|        null|null|    null|   null|     null|null|\n",
      "|939055;Altos Las ...|75 l;17.98;23.97;...|        ;Täyteläinen|    keskitanniininen|           luumuinen|   karhunvatukkainen| aroniamarjainen;...|             79805E+12|                null|          null|             null|                null|        null|null|      null|              null|     null|    null|        null|         null|          null|    null| null|  null|        null|null|    null|   null|     null|null|\n",
      "|936741;Altos Las ...|75 l;19.99;26.65;...|        ;Täyteläinen|    keskitanniininen|           luumuinen|   karhunvatukkainen| mausteinen;pullo...|             79805E+12|                null|          null|             null|                null|        null|null|      null|              null|     null|    null|        null|         null|          null|    null| null|  null|        null|null|    null|   null|     null|null|\n",
      "|945913;Altos Las ...|75 l;21.99;29.32;...| Mendoza;Saattaa ...|        ;Täyteläinen|    keskitanniininen|           luumuinen|          mausteinen|   nahkainen;pullo;...|           79805E+12|          null|             null|                null|        null|null|      null|              null|     null|    null|        null|         null|          null|    null| null|  null|        null|null|    null|   null|     null|null|\n",
      "|921767;Argento Or...|75 l;14.98;19.84;...|   ;Keskitäyteläinen|    keskitanniininen| tumman kirsikkainen|   mansikkahilloinen|         karpaloinen|              yrttinen| mausteinen;pullo...|     79813E+12|             null|                null|        null|null|      null|              null|     null|    null|        null|         null|          null|    null| null|  null|        null|null|    null|   null|     null|null|\n",
      "|941387;Argento Re...|75 l;14.99;19.99;...|        ;Täyteläinen|    keskitanniininen|    mustaherukkainen|         vadelmainen| pippurinen;pullo...|             79813E+12|                null|          null|             null|                null|        null|null|      null|              null|     null|    null|        null|         null|          null|    null| null|  null|        null|null|    null|   null|     null|null|\n",
      "|451687;Argento Se...|75 l;Oct.48;13.84...|   ;Keskitäyteläinen|    keskitanniininen| tumman kirsikkainen|   metsämansikkainen| kevyen mausteine...|             79816E+12|                null|          null|             null|                null|        null|null|      null|              null|     null|    null|        null|         null|          null|    null| null|  null|        null|null|    null|   null|     null|null|\n",
      "|924067;Beefsteak ...|75 l;Dec.49;16.52...|   ;Keskitäyteläinen|    keskitanniininen| tumman kirsikkainen| mausteinen;pullo...|           01193E+12|                  null|                null|          null|             null|                null|        null|null|      null|              null|     null|    null|        null|         null|          null|    null| null|  null|        null|null|    null|   null|     null|null|\n",
      "|903027;Beefsteak ...|75 l;25.98;34.64;...|        ;Täyteläinen|    keskitanniininen| tumman kirsikkainen|          mausteinen| vaniljainen;pull...|             01193E+12|                null|          null|             null|                null|        null|null|      null|              null|     null|    null|        null|         null|          null|    null| null|  null|        null|null|    null|   null|     null|null|\n",
      "|956585;Beefsteak ...|187 l;Mar.98;21.2...|   ;Keskitäyteläinen|    keskitanniininen|    mustaherukkainen|         karpaloinen| kevyen karhunvat...|   hennon mustapipp...|           01193E+12|          null|             null|                null|        null|null|      null|              null|     null|    null|        null|         null|          null|    null| null|  null|        null|null|    null|   null|     null|null|\n",
      "|454597;BenMarco E...|75 l;33.90;45.07;...|      Cabernet Franc|  Cabernet Sauvignon|        ;Täyteläinen|         tanniininen|         herukkainen|           viikunainen|     boysenmarjainen|     luumuinen| kevyen suklainen| tamminen;pullo;l...|   79807E+12|null|      null|              null|     null|    null|        null|         null|          null|    null| null|  null|        null|null|    null|   null|     null|null|\n",
      "|446837;BenMarco M...|75 l;21.50;28.53;...|        ;Täyteläinen|         tanniininen|    mustaherukkainen|   karhunvatukkainen|   kevyen taatelinen|      hennon kukkainen|            tamminen| tasapainoinen|         tyylikäs| pitkä;pullo;luon...|   79807E+12|null|      null|              null|     null|    null|        null|         null|          null|    null| null|  null|        null|null|    null|   null|     null|null|\n",
      "|954657;Bodega Pie...|75 l;14.49;19.19;...|        ;Täyteläinen|         tanniininen|           marjainen| mausteinen;pullo...|           48004E+12|                  null|                null|          null|             null|                null|        null|null|      null|              null|     null|    null|        null|         null|          null|    null| null|  null|        null|null|    null|   null|     null|null|\n",
      "|935176;Bodega Vis...|75 l;15.50;20.67;...|        ;Täyteläinen|    keskitanniininen| karhunvatukkahil...|        kirsikkainen| nahkainen;pullo;...|             79812E+12|                null|          null|             null|                null|        null|null|      null|              null|     null|    null|        null|         null|          null|    null| null|  null|        null|null|    null|   null|     null|null|\n",
      "|4551;Caballo de M...|75 l;Jul.99;Oct.5...|          Sangiovese|              Malbec|   ;Keskitäyteläinen|    keskitanniininen| kevyen kirsikkainen|          mansikkainen| mausteinen;pullo...|      4127E+12|             null|                null|        null|null|      null|              null|     null|    null|        null|         null|          null|    null| null|  null|        null|null|    null|   null|     null|null|\n",
      "|487307;Cameleon O...|75 l;Nov.99;15.85...|   ;Keskitäyteläinen|    keskitanniininen|    mustaherukkainen|   hapankirsikkainen|   karhunvatukkainen|              yrttinen| paahteinen;pullo...|      7981E+12|             null|                null|        null|null|      null|              null|     null|    null|        null|         null|          null|    null| null|  null|        null|null|    null|   null|     null|null|\n",
      "+--------------------+--------------------+--------------------+--------------------+--------------------+--------------------+--------------------+----------------------+--------------------+--------------+-----------------+--------------------+------------+----+----------+------------------+---------+--------+------------+-------------+--------------+--------+-----+------+------------+----+--------+-------+---------+----+\n",
      "only showing top 20 rows\n",
      "\n"
     ]
    }
   ],
   "source": [
    "data = Loaded(sampleDataPath1)\n",
    "\n",
    "data.show()"
   ]
  },
  {
   "cell_type": "code",
   "execution_count": 37,
   "metadata": {},
   "outputs": [],
   "source": [
    "def newColumn(df):\n",
    "    return spark.sql('''\n",
    "        SELECT alkoholi\n",
    "        from alko\n",
    "        \n",
    "    ''')"
   ]
  },
  {
   "cell_type": "code",
   "execution_count": 38,
   "metadata": {},
   "outputs": [
    {
     "name": "stdout",
     "output_type": "stream",
     "text": [
      "+--------+\n",
      "|alkoholi|\n",
      "+--------+\n",
      "|    null|\n",
      "|    null|\n",
      "|    null|\n",
      "|    null|\n",
      "|    null|\n",
      "|    null|\n",
      "|    null|\n",
      "|    null|\n",
      "|    null|\n",
      "|    null|\n",
      "|    null|\n",
      "|    null|\n",
      "|    null|\n",
      "|    null|\n",
      "|    null|\n",
      "|    null|\n",
      "|    null|\n",
      "|    null|\n",
      "|    null|\n",
      "|    null|\n",
      "+--------+\n",
      "only showing top 20 rows\n",
      "\n"
     ]
    }
   ],
   "source": [
    "data = Loaded(sampleDataPath1)\n",
    "\n",
    "newColumn(data).show()"
   ]
  }
 ],
 "metadata": {
  "kernelspec": {
   "display_name": "base",
   "language": "python",
   "name": "python3"
  },
  "language_info": {
   "codemirror_mode": {
    "name": "ipython",
    "version": 3
   },
   "file_extension": ".py",
   "mimetype": "text/x-python",
   "name": "python",
   "nbconvert_exporter": "python",
   "pygments_lexer": "ipython3",
   "version": "3.9.7"
  },
  "orig_nbformat": 4,
  "vscode": {
   "interpreter": {
    "hash": "3035f63d85d521969b6b53474568cbf9e3c380e9f069433bf1e2f6826a0aae09"
   }
  }
 },
 "nbformat": 4,
 "nbformat_minor": 2
}
