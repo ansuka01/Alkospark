{
 "cells": [
  {
   "cell_type": "code",
   "execution_count": null,
   "metadata": {},
   "outputs": [],
   "source": [
    "#Looking at the data that alkos product catalog provides. Maybe jokingly build a mlib-model that \"predicts\" the price of the product according to year/alcohol% etc."
   ]
  },
  {
   "cell_type": "code",
   "execution_count": 25,
   "metadata": {},
   "outputs": [],
   "source": [
    "from pyspark.sql import SparkSession\n",
    "from pyspark.ml import *\n",
    "from pyspark.ml.feature import *\n",
    "from pyspark.ml.classification import *\n",
    "from pyspark.sql.types import *\n",
    "\n",
    "spark = SparkSession.builder\\\n",
    "    .master(\"local[*]\")\\\n",
    "    .appName(\"alko\")\\\n",
    "    .config(\"spark.dynamicAllocation.enabled\", \"true\")\\\n",
    "    .config(\"spark.shuffle.service.enabled\", \"true\")\\\n",
    "    .getOrCreate()\n",
    "\n",
    "sampleDataPath1 = \"alkon-hinnasto-tekstitiedostona(2).csv\"\n",
    "alko = 'alko'"
   ]
  },
  {
   "cell_type": "code",
   "execution_count": 42,
   "metadata": {},
   "outputs": [],
   "source": [
    "def Loaded(path):\n",
    "    originalCols = StructType([\\\n",
    "    StructField(\"Numero\", StringType(),True),\\\n",
    "    StructField(\"Nimi\", StringType(),True),\\\n",
    "    StructField(\"Valmistaja\",StringType(),False),\\\n",
    "    StructField(\"Pullokoko\",StringType(),False),\\\n",
    "    StructField(\"Hinta\",StringType(),False),\\\n",
    "    StructField(\"Litrahinta\",StringType(),False),\\\n",
    "    StructField(\"Uutuus\",StringType(),True),\\\n",
    "    StructField(\"Hinnastojärjestyskoodi\",StringType(),False),\\\n",
    "    StructField(\"Tyyppi\",StringType(),False),\\\n",
    "    StructField(\"Alatyyppi\",StringType(),False),\\\n",
    "    StructField(\"Erityisryhmä\",StringType(),False),\\\n",
    "    StructField(\"Oluttyyppi\",StringType(),False),\\\n",
    "    StructField(\"Valmistusmaa\",StringType(),False),\\\n",
    "    StructField(\"Alue\",StringType(),False),\\\n",
    "    StructField(\"Vuosikerta\",StringType(),False),\\\n",
    "    StructField(\"Etikettimerkintöjä\",StringType(),False),\\\n",
    "    StructField(\"Huomautus\",StringType(),False),\\\n",
    "    StructField(\"Rypäleet\",StringType(),False),\\\n",
    "    StructField(\"Luonnehdinta\",StringType(),False),\\\n",
    "    StructField(\"Pakkaustyyppi\",StringType(),False),\\\n",
    "    StructField(\"Suljentatyyppi\",StringType(),False),\\\n",
    "    StructField(\"Alkoholi\",StringType(),False),\\\n",
    "    StructField(\"Hapot\",StringType(),False),\\\n",
    "    StructField(\"Sokeri\",StringType(),False),\\\n",
    "    StructField(\"Kantavierrep\",StringType(),False),\\\n",
    "    StructField(\"Väri\",StringType(),False),\\\n",
    "    StructField(\"Katkerot\",StringType(),False),\\\n",
    "    StructField(\"Energia\",StringType(),False),\\\n",
    "    StructField(\"Valikoima\",StringType(),False),\\\n",
    "    StructField(\"EAN\",StringType(),False)])\n",
    "    data = spark.read.option(\"header\",\"True\").schema(originalCols).csv(path)\n",
    "    data.createOrReplaceTempView(\"alko\")\n",
    "    return data\n"
   ]
  },
  {
   "cell_type": "code",
   "execution_count": 43,
   "metadata": {},
   "outputs": [
    {
     "name": "stdout",
     "output_type": "stream",
     "text": [
      "22/12/27 23:03:27 WARN CSVHeaderChecker: Number of column in CSV header is not equal to number of fields in the schema:\n",
      " Header length: 31, schema size: 30\n",
      "CSV file: file:///Users/attesukari/Documents/Tilastokeskus/alkon-hinnasto-tekstitiedostona(2).csv\n",
      "+------+--------------------+--------------------+---------+-----+----------+------+----------------------+------------------+--------------------+--------------------+----------+---------------+---------------+--------------------+--------------------+--------------------+--------------------+--------------------+--------------------+--------------------+--------------------+--------------------+--------------------+--------------------+-------------------+-------------+---------------+---------------+---------------+\n",
      "|Numero|                Nimi|          Valmistaja|Pullokoko|Hinta|Litrahinta|Uutuus|Hinnastojärjestyskoodi|            Tyyppi|           Alatyyppi|        Erityisryhmä|Oluttyyppi|   Valmistusmaa|           Alue|          Vuosikerta|  Etikettimerkintöjä|           Huomautus|            Rypäleet|        Luonnehdinta|       Pakkaustyyppi|      Suljentatyyppi|            Alkoholi|               Hapot|              Sokeri|        Kantavierrep|               Väri|     Katkerot|        Energia|      Valikoima|            EAN|\n",
      "+------+--------------------+--------------------+---------+-----+----------+------+----------------------+------------------+--------------------+--------------------+----------+---------------+---------------+--------------------+--------------------+--------------------+--------------------+--------------------+--------------------+--------------------+--------------------+--------------------+--------------------+--------------------+-------------------+-------------+---------------+---------------+---------------+\n",
      "|906458|Fair & Square Red...|          La Riojana|      1 l|10.89|     10.89|   110|            punaviinit|Mehevä & Hilloinen|          Argentiina|            La Rioja|      2021|Famatina Valley|   Reilu kauppa|               Syrah|                    |    Keskitäyteläinen|    keskitanniininen|   karhunvatukkainen|    mustaherukkainen|         karpaloinen|     kevyen yrttinen|      kartonkitölkki|         muovisuljin|                13.0|                5.2|            3|           70.0| vakiovalikoima|  7350084980013|\n",
      "|951667|Raza Selection Ma...|          La Riojana|        0| 75 l|     12.98| 17.17|                   110|        punaviinit|  Mehevä & Hilloinen|          Argentiina|  La Rioja|           2017|Famatina Valley|        Reilu kauppa|              Malbec|               Syrah|                    |         Täyteläinen|    keskitanniininen|         herukkainen|     boysenmarjainen|          taatelinen|        neilikkainen|               pullo|synteettinen korkki|         13.0|            4.9|              7|           80.0|\n",
      "|489367|Achaval Ferrer Qu...|      Achaval Ferrer|        0| 75 l|     49.94| 66.59|                   110|        punaviinit|Vivahteikas & Keh...|          Argentiina|   Mendoza|           2010|     IP Mendoza|         Täyteläinen|    keskitanniininen| tumman kirsikkainen|     boysenmarjainen|  kypsän karpaloinen|   kevyen kaakaoinen|            tamminen|              lämmin|               pullo|       luonnonkorkki|                14.0|                6.5|            1|           80.0|     erikoiserä|  7798091111035|\n",
      "|440567|Alamos Malbec Org...|              Alamos|        0| 75 l|     11.49| 15.19|                   110|        punaviinit|  Mehevä & Hilloinen|          Argentiina|   Mendoza|           2021|        Mendoza|              Malbec|                    |         Täyteläinen|    keskitanniininen|           luumuinen|        mustikkainen|   karhunvatukkainen|    kevyen kukkainen|               pullo|metallinen kierre...|                13.5|                5.2|            2|           80.0| vakiovalikoima|  7794450004871|\n",
      "|939055|Altos Las Hormiga...|  Altos Las Hormigas|        0| 75 l|     17.98| 23.97|                   110|        punaviinit|  Mehevä & Hilloinen|ympäristövastuull...|Argentiina|        Mendoza|           2020|             Mendoza|Saattaa sisältää ...|              Malbec|                    |         Täyteläinen|    keskitanniininen|           luumuinen|   karhunvatukkainen|     aroniamarjainen|               pullo|       luonnonkorkki|               13.5|          5.5|              2|           80.0|tilausvalikoima|\n",
      "|936741|Altos Las Hormiga...|  Altos Las Hormigas|        0| 75 l|     19.99| 26.65|                   110|        punaviinit|Vivahteikas & Keh...|          Argentiina|   Mendoza|           2017|        Mendoza|Saattaa sisältää ...|              Malbec|                    |         Täyteläinen|    keskitanniininen|           luumuinen|   karhunvatukkainen|          mausteinen|               pullo|       luonnonkorkki|                13.5|                4.7|            2|           80.0|tilausvalikoima|  7798051950780|\n",
      "|945913|Altos Las Hormiga...|  Altos Las Hormigas|        0| 75 l|     21.99| 29.32|                   110|        punaviinit|Vivahteikas & Keh...|          Argentiina|   Mendoza|           2018|     Uco Valley|             Mendoza|Saattaa sisältää ...|              Malbec|                    |         Täyteläinen|    keskitanniininen|           luumuinen|          mausteinen|           nahkainen|               pullo|       luonnonkorkki|               13.5|          5.5|              2|           80.0|tilausvalikoima|\n",
      "|921767|Argento Organic M...|      Bodega Argento|        0| 75 l|     14.98| 19.84|                   110|        punaviinit|  Mehevä & Hilloinen|               luomu|Argentiina|        Mendoza|           2015|          Uco Valley|              Malbec|                    |    Keskitäyteläinen|    keskitanniininen| tumman kirsikkainen|   mansikkahilloinen|         karpaloinen|            yrttinen|          mausteinen|               pullo|      luonnonkorkki|         14.0|            4.9|           80.0| vakiovalikoima|\n",
      "|941387|Argento Reserva C...|      Bodega Argento|        0| 75 l|     14.99| 19.99|                   110|        punaviinit|  Mehevä & Hilloinen|          Argentiina|   Mendoza|           2014|        Mendoza|      Cabernet Franc|                    |         Täyteläinen|    keskitanniininen|    mustaherukkainen|         vadelmainen|          pippurinen|               pullo|       luonnonkorkki|                14.0|                 5.1|                  4|         80.0|tilausvalikoima|  7798130462425|           null|\n",
      "|451687|Argento Seleccion...|Argento Wine Company|        0| 75 l|     10.48| 13.84|                   110|        punaviinit|  Mehevä & Hilloinen|          Argentiina|   Mendoza|           2018|        Mendoza|              Malbec|                    |    Keskitäyteläinen|    keskitanniininen| tumman kirsikkainen|   metsämansikkainen|   kevyen mausteinen|               pullo|metallinen kierre...|                13.5|                 5.1|                  3|         80.0| vakiovalikoima|  7798159560270|           null|\n",
      "|924067|Beefsteak Club Ma...|         E. I. Wines|        0| 75 l|     12.49| 16.52|                   110|        punaviinit|  Mehevä & Hilloinen|          Argentiina|   Mendoza|           2021|         Malbec|                    |    Keskitäyteläinen|    keskitanniininen| tumman kirsikkainen|          mausteinen|               pullo|metallinen kierre...|                13.5|                 5.2|                   3|                80.0|    tilausvalikoima|5011932012325|           null|           null|           null|\n",
      "|903027|Beefsteak Club Re...|    Andean Vineyards|        0| 75 l|     25.98| 34.64|                   110|        punaviinit|Vivahteikas & Keh...|          Argentiina|   Mendoza|           2020|     Uco Valley|              Malbec|                    |         Täyteläinen|    keskitanniininen| tumman kirsikkainen|          mausteinen|         vaniljainen|               pullo|       luonnonkorkki|                14.5|                 5.1|                  3|         80.0|tilausvalikoima|  5011932012431|           null|\n",
      "|956585|Beefsteak Club Th...|           E I Wines|        0|187 l|      3.98| 21.28|                   110|        punaviinit|  Mehevä & Hilloinen|          vegaaninen|Argentiina|        Mendoza|           2021|             Mendoza|              Malbec|                    |    Keskitäyteläinen|    keskitanniininen|    mustaherukkainen|         karpaloinen| kevyen karhunvat...| hennon mustapipp...|               pullo|metallinen kierre...|               13.5|          4.9|              0|           80.0| vakiovalikoima|\n",
      "|454597|BenMarco Expresiv...|   Dominio del Plata|        0| 75 l|     33.90| 45.07|                   110|        punaviinit|Vivahteikas & Keh...|          Argentiina|   Mendoza|           2020|   Valle de Uco|              Malbec|      Cabernet Franc|  Cabernet Sauvignon|                    |         Täyteläinen|         tanniininen|         herukkainen|         viikunainen|     boysenmarjainen|           luumuinen|    kevyen suklainen|           tamminen|        pullo|  luonnonkorkki|           14.5|            5.9|\n",
      "|446837|BenMarco Malbec 2020|   Dominio del Plata|        0| 75 l|     21.50| 28.53|                   110|        punaviinit|   Roteva & Voimakas|          Argentiina|   Mendoza|           2020|   Valle de Uco|              Malbec|                    |         Täyteläinen|         tanniininen|    mustaherukkainen|   karhunvatukkainen|   kevyen taatelinen|    hennon kukkainen|            tamminen|       tasapainoinen|            tyylikäs|              pitkä|        pullo|  luonnonkorkki|           14.5|            5.5|\n",
      "|954657|Bodega Piedra Neg...| Bodega Piedra Negra|        0| 75 l|     14.49| 19.19|                   110|        punaviinit|  Mehevä & Hilloinen|          Argentiina|   Mendoza|           2021|        Mendoza|              Malbec|                    |         Täyteläinen|         tanniininen|           marjainen|          mausteinen|               pullo|metallinen kierre...|                14.0|                 3.2|                80.0|    tilausvalikoima|3480042302008|           null|           null|           null|\n",
      "|935176|Bodega Vistalba A...|     Bodega Vistalba|        0| 75 l|     15.50| 20.67|                   110|        punaviinit|  Mehevä & Hilloinen|ympäristövastuull...|Argentiina|        Mendoza|           2017|             Mendoza|              Malbec|                    |         Täyteläinen|    keskitanniininen| karhunvatukkahil...|        kirsikkainen|           nahkainen|               pullo|metallinen kierre...|                14.5|                4.8|            2|           80.0|tilausvalikoima|  7798121940406|\n",
      "|004551|  Caballo de Mendoza|               Altia|        0| 75 l|      7.99| 10.52|                   110|        punaviinit|  Mehevä & Hilloinen|          Argentiina|   Mendoza|        Mendoza|       Cabernet|          Sangiovese|              Malbec|                    |    Keskitäyteläinen|    keskitanniininen| kevyen kirsikkainen|        mansikkainen|          mausteinen|               pullo|metallinen kierre...|                14.0|                4.7|         80.0| vakiovalikoima|  6412700455150|           null|\n",
      "|487307|Cameleon Organic ...|    Domaine Bousquet|        0| 75 l|     11.99| 15.85|                   110|        punaviinit|  Mehevä & Hilloinen|          Argentiina|   Mendoza|           2021|      Tupungato|  Cabernet Sauvignon|                    |    Keskitäyteläinen|    keskitanniininen|    mustaherukkainen|   hapankirsikkainen|   karhunvatukkainen|            yrttinen|          paahteinen|               pullo|metallinen kierre...|               14.0|          5.1|              0|           80.0| vakiovalikoima|\n",
      "|931718|           Caro 2015|        Bodegas Caro|        0| 75 l|     54.98| 73.31|                   110|        punaviinit|   Roteva & Voimakas|          Argentiina|   Mendoza|           2015|        Mendoza|Saattaa sisältää ...|              Malbec|  Cabernet Sauvignon|                    |         Täyteläinen|         tanniininen|           luumuinen|           mokkainen|            setrinen|               pullo|       luonnonkorkki|               14.0|          5.0|              2|           80.0|tilausvalikoima|\n",
      "+------+--------------------+--------------------+---------+-----+----------+------+----------------------+------------------+--------------------+--------------------+----------+---------------+---------------+--------------------+--------------------+--------------------+--------------------+--------------------+--------------------+--------------------+--------------------+--------------------+--------------------+--------------------+-------------------+-------------+---------------+---------------+---------------+\n",
      "only showing top 20 rows\n",
      "\n"
     ]
    }
   ],
   "source": [
    "data = Loaded(sampleDataPath1)\n",
    "\n",
    "data.show()"
   ]
  }
 ],
 "metadata": {
  "kernelspec": {
   "display_name": "base",
   "language": "python",
   "name": "python3"
  },
  "language_info": {
   "codemirror_mode": {
    "name": "ipython",
    "version": 3
   },
   "file_extension": ".py",
   "mimetype": "text/x-python",
   "name": "python",
   "nbconvert_exporter": "python",
   "pygments_lexer": "ipython3",
   "version": "3.9.7"
  },
  "orig_nbformat": 4,
  "vscode": {
   "interpreter": {
    "hash": "3035f63d85d521969b6b53474568cbf9e3c380e9f069433bf1e2f6826a0aae09"
   }
  }
 },
 "nbformat": 4,
 "nbformat_minor": 2
}
